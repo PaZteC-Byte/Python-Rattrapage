{
 "cells": [
  {
   "cell_type": "code",
   "execution_count": 5,
   "metadata": {},
   "outputs": [
    {
     "name": "stdout",
     "output_type": "stream",
     "text": [
      "bibliothèque importée\n"
     ]
    }
   ],
   "source": [
    "import pandas as pd\n",
    "import numpy as np\n",
    "import seaborn as sns\n",
    "import matplotlib.pyplot as plt\n",
    "print ('bibliothèque importée')\n"
   ]
  },
  {
   "cell_type": "code",
   "execution_count": 55,
   "metadata": {},
   "outputs": [
    {
     "name": "stdout",
     "output_type": "stream",
     "text": [
      "Database importée\n"
     ]
    }
   ],
   "source": [
    "pva = pd.read_csv(\"Stat-ventes-portable-amazon.csv\")\n",
    "print ('Database importée')"
   ]
  },
  {
   "cell_type": "markdown",
   "metadata": {},
   "source": [
    "La Database a bien été importée\n",
    "\n",
    "#\n",
    "\n",
    "Voici une visualisation de la database"
   ]
  },
  {
   "cell_type": "code",
   "execution_count": 56,
   "metadata": {},
   "outputs": [
    {
     "data": {
      "text/html": [
       "<div>\n",
       "<style scoped>\n",
       "    .dataframe tbody tr th:only-of-type {\n",
       "        vertical-align: middle;\n",
       "    }\n",
       "\n",
       "    .dataframe tbody tr th {\n",
       "        vertical-align: top;\n",
       "    }\n",
       "\n",
       "    .dataframe thead th {\n",
       "        text-align: right;\n",
       "    }\n",
       "</style>\n",
       "<table border=\"1\" class=\"dataframe\">\n",
       "  <thead>\n",
       "    <tr style=\"text-align: right;\">\n",
       "      <th></th>\n",
       "      <th>asin</th>\n",
       "      <th>brand</th>\n",
       "      <th>title</th>\n",
       "      <th>url</th>\n",
       "      <th>image</th>\n",
       "      <th>rating</th>\n",
       "      <th>reviewUrl</th>\n",
       "      <th>totalReviews</th>\n",
       "      <th>price</th>\n",
       "      <th>originalPrice</th>\n",
       "    </tr>\n",
       "  </thead>\n",
       "  <tbody>\n",
       "    <tr>\n",
       "      <th>0</th>\n",
       "      <td>B0000SX2UC</td>\n",
       "      <td>NaN</td>\n",
       "      <td>Dual-Band / Tri-Mode Sprint PCS Phone w/ Voice...</td>\n",
       "      <td>https://www.amazon.com/Dual-Band-Tri-Mode-Acti...</td>\n",
       "      <td>https://m.media-amazon.com/images/I/2143EBQ210...</td>\n",
       "      <td>3.0</td>\n",
       "      <td>https://www.amazon.com/product-reviews/B0000SX2UC</td>\n",
       "      <td>14</td>\n",
       "      <td>0.00</td>\n",
       "      <td>0.00</td>\n",
       "    </tr>\n",
       "    <tr>\n",
       "      <th>1</th>\n",
       "      <td>B0009N5L7K</td>\n",
       "      <td>Motorola</td>\n",
       "      <td>Motorola I265 phone</td>\n",
       "      <td>https://www.amazon.com/Motorola-i265-I265-phon...</td>\n",
       "      <td>https://m.media-amazon.com/images/I/419WBAVDAR...</td>\n",
       "      <td>3.0</td>\n",
       "      <td>https://www.amazon.com/product-reviews/B0009N5L7K</td>\n",
       "      <td>7</td>\n",
       "      <td>49.95</td>\n",
       "      <td>0.00</td>\n",
       "    </tr>\n",
       "    <tr>\n",
       "      <th>2</th>\n",
       "      <td>B000SKTZ0S</td>\n",
       "      <td>Motorola</td>\n",
       "      <td>MOTOROLA C168i AT&amp;T CINGULAR PREPAID GOPHONE C...</td>\n",
       "      <td>https://www.amazon.com/MOTOROLA-C168i-CINGULAR...</td>\n",
       "      <td>https://m.media-amazon.com/images/I/71b+q3ydkI...</td>\n",
       "      <td>2.7</td>\n",
       "      <td>https://www.amazon.com/product-reviews/B000SKTZ0S</td>\n",
       "      <td>22</td>\n",
       "      <td>99.99</td>\n",
       "      <td>0.00</td>\n",
       "    </tr>\n",
       "    <tr>\n",
       "      <th>3</th>\n",
       "      <td>B001AO4OUC</td>\n",
       "      <td>Motorola</td>\n",
       "      <td>Motorola i335 Cell Phone Boost Mobile</td>\n",
       "      <td>https://www.amazon.com/Motorola-i335-Phone-Boo...</td>\n",
       "      <td>https://m.media-amazon.com/images/I/710UO8gdT+...</td>\n",
       "      <td>3.3</td>\n",
       "      <td>https://www.amazon.com/product-reviews/B001AO4OUC</td>\n",
       "      <td>21</td>\n",
       "      <td>0.00</td>\n",
       "      <td>0.00</td>\n",
       "    </tr>\n",
       "    <tr>\n",
       "      <th>4</th>\n",
       "      <td>B001DCJAJG</td>\n",
       "      <td>Motorola</td>\n",
       "      <td>Motorola V365 no contract cellular phone AT&amp;T</td>\n",
       "      <td>https://www.amazon.com/Motorola-V365-contract-...</td>\n",
       "      <td>https://m.media-amazon.com/images/I/61LYNCVrrK...</td>\n",
       "      <td>3.1</td>\n",
       "      <td>https://www.amazon.com/product-reviews/B001DCJAJG</td>\n",
       "      <td>12</td>\n",
       "      <td>149.99</td>\n",
       "      <td>0.00</td>\n",
       "    </tr>\n",
       "    <tr>\n",
       "      <th>...</th>\n",
       "      <td>...</td>\n",
       "      <td>...</td>\n",
       "      <td>...</td>\n",
       "      <td>...</td>\n",
       "      <td>...</td>\n",
       "      <td>...</td>\n",
       "      <td>...</td>\n",
       "      <td>...</td>\n",
       "      <td>...</td>\n",
       "      <td>...</td>\n",
       "    </tr>\n",
       "    <tr>\n",
       "      <th>715</th>\n",
       "      <td>B07ZPKZSSC</td>\n",
       "      <td>Apple</td>\n",
       "      <td>Apple iPhone 11 Pro, 64GB, Fully Unlocked - Sp...</td>\n",
       "      <td>https://www.amazon.com/Apple-iPhone-64GB-Fully...</td>\n",
       "      <td>https://m.media-amazon.com/images/I/41wDuEW9iZ...</td>\n",
       "      <td>1.0</td>\n",
       "      <td>https://www.amazon.com/product-reviews/B07ZPKZSSC</td>\n",
       "      <td>1</td>\n",
       "      <td>949.00</td>\n",
       "      <td>0.00</td>\n",
       "    </tr>\n",
       "    <tr>\n",
       "      <th>716</th>\n",
       "      <td>B07ZQSGP53</td>\n",
       "      <td>Xiaomi</td>\n",
       "      <td>Xiaomi Redmi Note 8, 32GB/3GB RAM 6.3\" FHD+ Di...</td>\n",
       "      <td>https://www.amazon.com/Xiaomi-Display-Snapdrag...</td>\n",
       "      <td>https://m.media-amazon.com/images/I/41foh4FKHE...</td>\n",
       "      <td>4.6</td>\n",
       "      <td>https://www.amazon.com/product-reviews/B07ZQSGP53</td>\n",
       "      <td>3</td>\n",
       "      <td>150.96</td>\n",
       "      <td>0.00</td>\n",
       "    </tr>\n",
       "    <tr>\n",
       "      <th>717</th>\n",
       "      <td>B081H6STQQ</td>\n",
       "      <td>Sony</td>\n",
       "      <td>Sony Xperia 1 Unlocked Smartphone and WH1000XM...</td>\n",
       "      <td>https://www.amazon.com/Sony-Smartphone-WH1000X...</td>\n",
       "      <td>https://m.media-amazon.com/images/I/51zZTAXZTP...</td>\n",
       "      <td>4.5</td>\n",
       "      <td>https://www.amazon.com/product-reviews/B081H6STQQ</td>\n",
       "      <td>70</td>\n",
       "      <td>948.00</td>\n",
       "      <td>0.00</td>\n",
       "    </tr>\n",
       "    <tr>\n",
       "      <th>718</th>\n",
       "      <td>B081TJFVCJ</td>\n",
       "      <td>Apple</td>\n",
       "      <td>Apple iPhone X, 64GB, Gray - Fully Unlocked (R...</td>\n",
       "      <td>https://www.amazon.com/Apple-iPhone-64GB-Gray-...</td>\n",
       "      <td>https://m.media-amazon.com/images/I/71yMgOenT5...</td>\n",
       "      <td>5.0</td>\n",
       "      <td>https://www.amazon.com/product-reviews/B081TJFVCJ</td>\n",
       "      <td>1</td>\n",
       "      <td>478.97</td>\n",
       "      <td>0.00</td>\n",
       "    </tr>\n",
       "    <tr>\n",
       "      <th>719</th>\n",
       "      <td>B0825BB7SG</td>\n",
       "      <td>Samsung</td>\n",
       "      <td>Straight Talk Samsung Galaxy A10e Smartphone 5...</td>\n",
       "      <td>https://www.amazon.com/Straight-Samsung-Galaxy...</td>\n",
       "      <td>https://m.media-amazon.com/images/I/81+3SWSAhD...</td>\n",
       "      <td>5.0</td>\n",
       "      <td>https://www.amazon.com/product-reviews/B0825BB7SG</td>\n",
       "      <td>1</td>\n",
       "      <td>139.00</td>\n",
       "      <td>139.26</td>\n",
       "    </tr>\n",
       "  </tbody>\n",
       "</table>\n",
       "<p>720 rows × 10 columns</p>\n",
       "</div>"
      ],
      "text/plain": [
       "           asin     brand                                              title  \\\n",
       "0    B0000SX2UC       NaN  Dual-Band / Tri-Mode Sprint PCS Phone w/ Voice...   \n",
       "1    B0009N5L7K  Motorola                                Motorola I265 phone   \n",
       "2    B000SKTZ0S  Motorola  MOTOROLA C168i AT&T CINGULAR PREPAID GOPHONE C...   \n",
       "3    B001AO4OUC  Motorola              Motorola i335 Cell Phone Boost Mobile   \n",
       "4    B001DCJAJG  Motorola      Motorola V365 no contract cellular phone AT&T   \n",
       "..          ...       ...                                                ...   \n",
       "715  B07ZPKZSSC     Apple  Apple iPhone 11 Pro, 64GB, Fully Unlocked - Sp...   \n",
       "716  B07ZQSGP53    Xiaomi  Xiaomi Redmi Note 8, 32GB/3GB RAM 6.3\" FHD+ Di...   \n",
       "717  B081H6STQQ      Sony  Sony Xperia 1 Unlocked Smartphone and WH1000XM...   \n",
       "718  B081TJFVCJ     Apple  Apple iPhone X, 64GB, Gray - Fully Unlocked (R...   \n",
       "719  B0825BB7SG   Samsung  Straight Talk Samsung Galaxy A10e Smartphone 5...   \n",
       "\n",
       "                                                   url  \\\n",
       "0    https://www.amazon.com/Dual-Band-Tri-Mode-Acti...   \n",
       "1    https://www.amazon.com/Motorola-i265-I265-phon...   \n",
       "2    https://www.amazon.com/MOTOROLA-C168i-CINGULAR...   \n",
       "3    https://www.amazon.com/Motorola-i335-Phone-Boo...   \n",
       "4    https://www.amazon.com/Motorola-V365-contract-...   \n",
       "..                                                 ...   \n",
       "715  https://www.amazon.com/Apple-iPhone-64GB-Fully...   \n",
       "716  https://www.amazon.com/Xiaomi-Display-Snapdrag...   \n",
       "717  https://www.amazon.com/Sony-Smartphone-WH1000X...   \n",
       "718  https://www.amazon.com/Apple-iPhone-64GB-Gray-...   \n",
       "719  https://www.amazon.com/Straight-Samsung-Galaxy...   \n",
       "\n",
       "                                                 image  rating  \\\n",
       "0    https://m.media-amazon.com/images/I/2143EBQ210...     3.0   \n",
       "1    https://m.media-amazon.com/images/I/419WBAVDAR...     3.0   \n",
       "2    https://m.media-amazon.com/images/I/71b+q3ydkI...     2.7   \n",
       "3    https://m.media-amazon.com/images/I/710UO8gdT+...     3.3   \n",
       "4    https://m.media-amazon.com/images/I/61LYNCVrrK...     3.1   \n",
       "..                                                 ...     ...   \n",
       "715  https://m.media-amazon.com/images/I/41wDuEW9iZ...     1.0   \n",
       "716  https://m.media-amazon.com/images/I/41foh4FKHE...     4.6   \n",
       "717  https://m.media-amazon.com/images/I/51zZTAXZTP...     4.5   \n",
       "718  https://m.media-amazon.com/images/I/71yMgOenT5...     5.0   \n",
       "719  https://m.media-amazon.com/images/I/81+3SWSAhD...     5.0   \n",
       "\n",
       "                                             reviewUrl  totalReviews   price  \\\n",
       "0    https://www.amazon.com/product-reviews/B0000SX2UC            14    0.00   \n",
       "1    https://www.amazon.com/product-reviews/B0009N5L7K             7   49.95   \n",
       "2    https://www.amazon.com/product-reviews/B000SKTZ0S            22   99.99   \n",
       "3    https://www.amazon.com/product-reviews/B001AO4OUC            21    0.00   \n",
       "4    https://www.amazon.com/product-reviews/B001DCJAJG            12  149.99   \n",
       "..                                                 ...           ...     ...   \n",
       "715  https://www.amazon.com/product-reviews/B07ZPKZSSC             1  949.00   \n",
       "716  https://www.amazon.com/product-reviews/B07ZQSGP53             3  150.96   \n",
       "717  https://www.amazon.com/product-reviews/B081H6STQQ            70  948.00   \n",
       "718  https://www.amazon.com/product-reviews/B081TJFVCJ             1  478.97   \n",
       "719  https://www.amazon.com/product-reviews/B0825BB7SG             1  139.00   \n",
       "\n",
       "     originalPrice  \n",
       "0             0.00  \n",
       "1             0.00  \n",
       "2             0.00  \n",
       "3             0.00  \n",
       "4             0.00  \n",
       "..             ...  \n",
       "715           0.00  \n",
       "716           0.00  \n",
       "717           0.00  \n",
       "718           0.00  \n",
       "719         139.26  \n",
       "\n",
       "[720 rows x 10 columns]"
      ]
     },
     "execution_count": 56,
     "metadata": {},
     "output_type": "execute_result"
    }
   ],
   "source": [
    "pva"
   ]
  },
  {
   "cell_type": "markdown",
   "metadata": {},
   "source": [
    "\n",
    "\n",
    "Types de chaque données"
   ]
  },
  {
   "cell_type": "code",
   "execution_count": 57,
   "metadata": {},
   "outputs": [
    {
     "data": {
      "text/plain": [
       "asin              object\n",
       "brand             object\n",
       "title             object\n",
       "url               object\n",
       "image             object\n",
       "rating           float64\n",
       "reviewUrl         object\n",
       "totalReviews       int64\n",
       "price            float64\n",
       "originalPrice    float64\n",
       "dtype: object"
      ]
     },
     "execution_count": 57,
     "metadata": {},
     "output_type": "execute_result"
    }
   ],
   "source": [
    "pva.dtypes"
   ]
  },
  {
   "cell_type": "markdown",
   "metadata": {},
   "source": [
    "Graphique 1 : représente la courbe des prix des téléphones en vente sur le site Amazon"
   ]
  },
  {
   "cell_type": "code",
   "execution_count": 58,
   "metadata": {},
   "outputs": [
    {
     "data": {
      "text/plain": [
       "<matplotlib.axes._subplots.AxesSubplot at 0x2b0aec34b88>"
      ]
     },
     "execution_count": 58,
     "metadata": {},
     "output_type": "execute_result"
    },
    {
     "data": {
      "image/png": "[encoded data removed]",
      "text/plain": [
       "<Figure size 432x288 with 1 Axes>"
      ]
     },
     "metadata": {
      "needs_background": "light"
     },
     "output_type": "display_data"
    }
   ],
   "source": [
    "x= pva.price\n",
    "sns.distplot(x)"
   ]
  },
  {
   "cell_type": "markdown",
   "metadata": {},
   "source": [
    "Graphique 2 : représente le prix moyen des téléphones en vente sur le site Amazon par rapport à leur note obtenue"
   ]
  },
  {
   "cell_type": "code",
   "execution_count": 59,
   "metadata": {},
   "outputs": [
    {
     "data": {
      "image/png": "[encoded data removed]",
      "text/plain": [
       "<Figure size 432x288 with 1 Axes>"
      ]
     },
     "metadata": {
      "needs_background": "light"
     },
     "output_type": "display_data"
    }
   ],
   "source": [
    "fig = plt.figure()\n",
    "note = pva.rating\n",
    "prix = pva.price\n",
    "plt.bar(note, prix);\n",
    "plt.show()\n",
    "\n"
   ]
  },
  {
   "cell_type": "markdown",
   "metadata": {},
   "source": [
    "Graphique 3 : c'est un graphique circulaire qui représente les prix des téléphones présent sur Amazon en pourcentage."
   ]
  },
  {
   "cell_type": "code",
   "execution_count": 60,
   "metadata": {},
   "outputs": [
    {
     "data": {
      "image/png": "[encoded data removed]",
      "text/plain": [
       "<Figure size 432x288 with 1 Axes>"
      ]
     },
     "metadata": {},
     "output_type": "display_data"
    }
   ],
   "source": [
    "plus_cent_euro = np.sum(pva.price >= 500.00)\n",
    "plus_quatrevingt_euro = np.sum((pva.price >= 300.00) & (pva.price < 500.00))\n",
    "plus_cinquante_euro = np.sum((pva.price >=100.00) & (pva.price <299.00))\n",
    "moins_cinquante_euro = np.sum(pva.price < 100.00)\n",
    "labels = 'plus de 500 €', 'entre 300 et 500 € ', 'entre 100 et 299 €',  'moins de 100 €'\n",
    "sizes = [plus_cent_euro, plus_quatrevingt_euro, plus_cinquante_euro,   moins_cinquante_euro]\n",
    "colors = ['yellowgreen', 'gold', 'lightskyblue', 'lightcoral']\n",
    "explode = (0.1, 0, 0, 0)\n",
    "\n",
    "plt.pie(sizes, explode=explode, labels=labels, colors=colors, \n",
    "        autopct='%1.1f%%', shadow=True, startangle=90)\n",
    "\n",
    "plt.axis('equal')\n",
    "\n",
    "plt.savefig('PieChart02.png')\n",
    "plt.show()"
   ]
  },
  {
   "cell_type": "markdown",
   "metadata": {},
   "source": [
    "Graphique 4 : c'est un graphique en barres représentant le nombres de téléphone (axe Y) ayant recue cette note (axe x)"
   ]
  },
  {
   "cell_type": "code",
   "execution_count": 61,
   "metadata": {},
   "outputs": [
    {
     "data": {
      "image/png": "[encoded data removed]",
      "text/plain": [
       "<Figure size 1440x360 with 1 Axes>"
      ]
     },
     "metadata": {
      "needs_background": "light"
     },
     "output_type": "display_data"
    }
   ],
   "source": [
    "plt.figure(1, figsize=(30, 5))\n",
    "x = plt.hist(pva.rating,edgecolor = 'purple')"
   ]
  }
 ],
 "metadata": {
  "kernelspec": {
   "display_name": "Python 3",
   "language": "python",
   "name": "python3"
  },
  "language_info": {
   "codemirror_mode": {
    "name": "ipython",
    "version": 3
   },
   "file_extension": ".py",
   "mimetype": "text/x-python",
   "name": "python",
   "nbconvert_exporter": "python",
   "pygments_lexer": "ipython3",
   "version": "3.7.6"
  }
 },
 "nbformat": 4,
 "nbformat_minor": 4
}
